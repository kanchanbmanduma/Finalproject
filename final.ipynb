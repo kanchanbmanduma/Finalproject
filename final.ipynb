{
 "cells": [
  {
   "cell_type": "code",
   "execution_count": 41,
   "id": "fcef4be0",
   "metadata": {},
   "outputs": [
    {
     "name": "stdout",
     "output_type": "stream",
     "text": [
      "✅ File 1 loaded. Rows: 27613\n",
      "📁 Exported to: C:\\Users\\ADMIN\\Desktop\\final\\selected_file1.xlsx\n",
      "📂 File 1 exists: True\n"
     ]
    }
   ],
   "source": [
    "import os\n",
    "import pyreadstat\n",
    "filepath1=r\"C:\\Users\\ADMIN\\OneDrive\\Desktop\\final project\\dataset\\dataset\\NP_2022\\NPBR81SV\\NPBR81FL.SAV\"\n",
    "df1, meta = pyreadstat.read_sav(filepath1)\n",
    "print(\"✅ File 1 loaded. Rows:\", len(df1))\n",
    "\n",
    "\n",
    "#filepath2=r\"C:\\Users\\ADMIN\\OneDrive\\Desktop\\final project\\dataset\\dataset\\NP_2022\\NPGR81SV\\NPGR81FL.SAV\"\n",
    "#df2, meta = pyreadstat.read_sav(filepath2)\n",
    "#print(\"✅ File 2 loaded. Rows:\", len(df2))\n",
    "\n",
    "selected_df1 = df1[[\"V001\", \"V002\",\"V003\",\"M42A\",\"M42C\",\"M42D\",\"M42E\",\"M42F\",\"M42G\",\"M42I\",\n",
    "                    \"M42L\",\"M42M\",\"M42N\",\"S418L\",\"S418M\",\"S418N\",\"M13A\",\"M14\",\"M1\",\"M1A\",\"M1D\",\"M45\",\n",
    "                    \"M46\",\"M60\",\"S1014AA\",\"S1014AB\",\"S1014AC\",\"M57A\",\"M57B\",\"M57E\",\"M57F\",\"M57G\",\"M57H\"\n",
    "                    ,\"M57I\",\"M57J\",\"M57K\",\"M57M\",\"M57N\",\"M57O\",\"M57P\",\"M57NB\",\"M57NC\",\"M57ND\",\n",
    "                    \"M57X\",\"M2A\",\"M2B\",\"M2C\",\"M2G\",\"M2H\",\"M2K\",\"MH17A\",\"MH17B\",\"MH17C\",\"M82\",\"SDV35BC\",\n",
    "                    \"V401\",\"V106\",\"V024\",\"V025\",\"V130\",\"V131\",\"V190\",\"V701\",\"V704\",\"SECOREG\",\"SDIST\"]]\n",
    "#selected_df2 = df2[[\"V001\", \"V002\"]]\n",
    "\n",
    "# === Export directory ===\n",
    "output_folder = r\"C:\\Users\\ADMIN\\Desktop\\final\"\n",
    "os.makedirs(output_folder, exist_ok=True)\n",
    "\n",
    "# === Export to Excel ===\n",
    "output_path1 = os.path.join(output_folder, \"selected_file1.xlsx\")\n",
    "#output_path2 = os.path.join(output_folder, \"selected_file2.xlsx\")\n",
    "\n",
    "selected_df1.to_excel(output_path1, index=False)\n",
    "#selected_df2.to_excel(output_path2, index=False)\n",
    "\n",
    "# === Confirm ===\n",
    "print(\"📁 Exported to:\", output_path1)\n",
    "#print(\"📁 Exported to:\", output_path2)\n",
    "print(\"📂 File 1 exists:\", os.path.exists(output_path1))\n",
    "#print(\"📂 File 2 exists:\", os.path.exists(output_path2))\n",
    "\n",
    "\n",
    "\n"
   ]
  }
 ],
 "metadata": {
  "kernelspec": {
   "display_name": "myenv",
   "language": "python",
   "name": "python3"
  },
  "language_info": {
   "codemirror_mode": {
    "name": "ipython",
    "version": 3
   },
   "file_extension": ".py",
   "mimetype": "text/x-python",
   "name": "python",
   "nbconvert_exporter": "python",
   "pygments_lexer": "ipython3",
   "version": "3.11.11"
  }
 },
 "nbformat": 4,
 "nbformat_minor": 5
}
